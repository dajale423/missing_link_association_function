{
 "cells": [
  {
   "cell_type": "code",
   "execution_count": 28,
   "metadata": {
    "ExecuteTime": {
     "end_time": "2021-05-20T01:26:14.925817Z",
     "start_time": "2021-05-20T01:26:14.921819Z"
    }
   },
   "outputs": [],
   "source": [
    "import pandas as pd\n",
    "import glob\n",
    "import os\n",
    "import math"
   ]
  },
  {
   "cell_type": "code",
   "execution_count": 227,
   "metadata": {
    "ExecuteTime": {
     "end_time": "2021-05-23T00:05:38.065917Z",
     "start_time": "2021-05-23T00:05:38.062149Z"
    }
   },
   "outputs": [],
   "source": [
    "phenotype = \"t2d\"\n",
    "number = 1"
   ]
  },
  {
   "cell_type": "code",
   "execution_count": 228,
   "metadata": {
    "ExecuteTime": {
     "end_time": "2021-05-23T00:05:38.607631Z",
     "start_time": "2021-05-23T00:05:38.600318Z"
    }
   },
   "outputs": [],
   "source": [
    "if phenotype == \"bc\":\n",
    "    tissue = \"Breast_Mammary_Tissue\"\n",
    "elif phenotype == \"t2d\":\n",
    "    if number == 1:\n",
    "        tissue = \"Pancreas\"\n",
    "    elif number == 2:\n",
    "        tissue = \"Whole_Blood\"\n",
    "    elif number == 3:\n",
    "        tissue = \"Liver\"\n",
    "elif (phenotype == \"uc\") or (phenotype == \"cd\"):\n",
    "    if number == 1:\n",
    "        tissue = \"Colon_Sigmoid\"\n",
    "    elif number == 2:\n",
    "        tissue = \"Colon_Transverse\"\n",
    "    elif number == 3:\n",
    "        tissue = \"Small_Intestine_Terminal_Ileum\""
   ]
  },
  {
   "cell_type": "code",
   "execution_count": 229,
   "metadata": {
    "ExecuteTime": {
     "end_time": "2021-05-23T00:05:38.974706Z",
     "start_time": "2021-05-23T00:05:38.968212Z"
    }
   },
   "outputs": [
    {
     "name": "stdout",
     "output_type": "stream",
     "text": [
      "/net/data/GTEx/gwas/ukbb_conditioned_gwas/t2d/eCAVIAR_output/Pancreas/\n"
     ]
    }
   ],
   "source": [
    "upper_directory = \"/net/data/GTEx/gwas/ukbb_conditioned_gwas/\"\n",
    "\n",
    "zfile_directory = upper_directory + phenotype + '/eCAVIAR_zscore/' + tissue + \"/\"\n",
    "eC_LD_directory = upper_directory + phenotype + '/eCAVIAR_LD/' + tissue + \"/\"\n",
    "\n",
    "output_directory = upper_directory + phenotype + '/eCAVIAR_output/'\n",
    "eC_output_file = upper_directory + phenotype + '/eCAVIAR_output/' + tissue + \"/\"\n",
    "\n",
    "print(eC_output_file)\n"
   ]
  },
  {
   "cell_type": "code",
   "execution_count": 230,
   "metadata": {
    "ExecuteTime": {
     "end_time": "2021-05-23T00:05:39.327620Z",
     "start_time": "2021-05-23T00:05:39.323410Z"
    }
   },
   "outputs": [],
   "source": [
    "if not os.path.exists(output_directory):\n",
    "    os.mkdir(output_directory)    \n",
    "if not os.path.exists(eC_output_file):\n",
    "    os.mkdir(eC_output_file)"
   ]
  },
  {
   "cell_type": "code",
   "execution_count": 231,
   "metadata": {
    "ExecuteTime": {
     "end_time": "2021-05-23T00:05:39.950791Z",
     "start_time": "2021-05-23T00:05:39.724651Z"
    }
   },
   "outputs": [
    {
     "name": "stdout",
     "output_type": "stream",
     "text": [
      "6082.0\n",
      "5539\n",
      "5105\n"
     ]
    }
   ],
   "source": [
    "zfiles = glob.glob(zfile_directory + '*.Z')\n",
    "print(len(zfiles)/2)\n",
    "\n",
    "LDfiles = glob.glob(eC_LD_directory + '*.LD')\n",
    "print(len(LDfiles))\n",
    "\n",
    "outputs = glob.glob(eC_output_file + '*_col')\n",
    "print(len(outputs))"
   ]
  },
  {
   "cell_type": "code",
   "execution_count": 182,
   "metadata": {
    "ExecuteTime": {
     "end_time": "2021-05-21T19:11:04.429315Z",
     "start_time": "2021-05-21T19:11:04.415719Z"
    }
   },
   "outputs": [],
   "source": [
    "zfiles_split = [x.split(\"/\")[-1][0:-2] for x in zfiles]\n",
    "LDfiles_split = [x.split(\"/\")[-1][0:-3] for x in LDfiles]\n",
    "\n",
    "LD_undone = set(zfiles_split) - set(LDfiles_split)"
   ]
  },
  {
   "cell_type": "code",
   "execution_count": 183,
   "metadata": {
    "ExecuteTime": {
     "end_time": "2021-05-21T19:11:04.989264Z",
     "start_time": "2021-05-21T19:11:04.979318Z"
    }
   },
   "outputs": [
    {
     "data": {
      "text/plain": [
       "1723"
      ]
     },
     "execution_count": 183,
     "metadata": {},
     "output_type": "execute_result"
    }
   ],
   "source": [
    "LDfiles_split = [x.split(\"/\")[-1][0:-3] for x in LDfiles]\n",
    "LDfiles_split = set(LDfiles_split)\n",
    "\n",
    "outputs_split = [x.split(\"/\")[-1][3:-4] for x in outputs]\n",
    "outputs_split = set(outputs_split)\n",
    "\n",
    "missing = list(LDfiles_split - outputs_split)\n",
    "\n",
    "len(missing)"
   ]
  },
  {
   "cell_type": "code",
   "execution_count": 184,
   "metadata": {
    "ExecuteTime": {
     "end_time": "2021-05-21T19:11:05.619465Z",
     "start_time": "2021-05-21T19:11:05.606464Z"
    }
   },
   "outputs": [],
   "source": [
    "line_list = []\n",
    "\n",
    "for identifier in missing:\n",
    "        \n",
    "    line = '/net/home/dlee/git/caviar/CAVIAR-C++/eCAVIAR -o ' + eC_output_file + 'chr'\n",
    "    line += identifier\n",
    "    line += ' -l ' + eC_LD_directory\n",
    "    line += identifier + '.LD'\n",
    "    line += ' -l ' + eC_LD_directory\n",
    "    line += identifier + '.LD'\n",
    "    line += ' -z ' + zfile_directory+ 'gwas_'\n",
    "    line += identifier + '.Z'\n",
    "    line += ' -z ' + zfile_directory+ 'eqtl_'\n",
    "    line += identifier + '.Z'\n",
    "    \n",
    "    line_list.append(line)"
   ]
  },
  {
   "cell_type": "code",
   "execution_count": 185,
   "metadata": {
    "ExecuteTime": {
     "end_time": "2021-05-21T19:11:06.336650Z",
     "start_time": "2021-05-21T19:11:06.331085Z"
    }
   },
   "outputs": [
    {
     "data": {
      "text/plain": [
       "1723"
      ]
     },
     "execution_count": 185,
     "metadata": {},
     "output_type": "execute_result"
    }
   ],
   "source": [
    "len(line_list)"
   ]
  },
  {
   "cell_type": "code",
   "execution_count": 186,
   "metadata": {
    "ExecuteTime": {
     "end_time": "2021-05-21T19:11:07.596060Z",
     "start_time": "2021-05-21T19:11:07.552744Z"
    }
   },
   "outputs": [
    {
     "name": "stdout",
     "output_type": "stream",
     "text": [
      "1723\n"
     ]
    }
   ],
   "source": [
    "counter = 0\n",
    "\n",
    "divide_by = 10\n",
    "\n",
    "for i in range(divide_by):\n",
    "    filename = phenotype + \"_\" + tissue + \"_\" + str(i) + '.sh'\n",
    "    open(filename, 'w').close()\n",
    "\n",
    "    with open(filename, 'a') as the_file:\n",
    "        the_file.write('#/bin/sh')\n",
    "        the_file.write('\\n')\n",
    "\n",
    "        for x in range(1, math.ceil(len(line_list)/divide_by) + 1):\n",
    "            if counter > (len(line_list) - 1) :\n",
    "                print(counter)\n",
    "                break\n",
    "            the_file.write(line_list[counter] + '\\n')\n",
    "            counter += 1\n",
    "#             print(counter)"
   ]
  },
  {
   "cell_type": "code",
   "execution_count": null,
   "metadata": {},
   "outputs": [],
   "source": []
  }
 ],
 "metadata": {
  "kernelspec": {
   "display_name": "Python 3",
   "language": "python",
   "name": "python3"
  },
  "language_info": {
   "codemirror_mode": {
    "name": "ipython",
    "version": 3
   },
   "file_extension": ".py",
   "mimetype": "text/x-python",
   "name": "python",
   "nbconvert_exporter": "python",
   "pygments_lexer": "ipython3",
   "version": "3.7.7"
  }
 },
 "nbformat": 4,
 "nbformat_minor": 4
}
