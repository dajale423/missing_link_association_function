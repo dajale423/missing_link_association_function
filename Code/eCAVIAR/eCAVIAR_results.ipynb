{
 "cells": [
  {
   "cell_type": "code",
   "execution_count": 76,
   "metadata": {},
   "outputs": [],
   "source": [
    "# for interpreting eCAVIAR results\n",
    "\n",
    "import glob\n",
    "import pandas as pd"
   ]
  },
  {
   "cell_type": "markdown",
   "metadata": {},
   "source": [
    "### mendelian list"
   ]
  },
  {
   "cell_type": "code",
   "execution_count": 17,
   "metadata": {},
   "outputs": [],
   "source": [
    "filename = \"2021.02.10.mend.genes.tsv\"\n",
    "\n",
    "mendelian_list = pd.read_csv(filename, sep = ' ', header = None)\n",
    "mendelian_list.columns = ['Tissue', 'gene_name']"
   ]
  },
  {
   "cell_type": "code",
   "execution_count": 8,
   "metadata": {},
   "outputs": [],
   "source": [
    "ensg_filename = \"/net/home/dlee/dataset/ENSP_ENST_ENSG_names.csv\"\n",
    "ensg_df = pd.read_csv(ensg_filename)"
   ]
  },
  {
   "cell_type": "code",
   "execution_count": 23,
   "metadata": {},
   "outputs": [],
   "source": [
    "def get_ensg_name(gene_name, ensg_df):\n",
    "    if len(ensg_df.loc[ensg_df[\"Gene name\"] == gene_name]) == 0:\n",
    "        return None\n",
    "    \n",
    "    list1 = list(set(ensg_df.loc[ensg_df[\"Gene name\"] == gene_name][\"Gene stable ID\"]))\n",
    "    \n",
    "    str1 = '|'.join(list1)\n",
    "    return str1"
   ]
  },
  {
   "cell_type": "code",
   "execution_count": 25,
   "metadata": {},
   "outputs": [],
   "source": [
    "mendelian_list[\"ENSG\"] = [get_ensg_name(x, ensg_df) for x in mendelian_list[\"gene_name\"]]"
   ]
  },
  {
   "cell_type": "code",
   "execution_count": 27,
   "metadata": {},
   "outputs": [
    {
     "data": {
      "text/html": [
       "<div>\n",
       "<style scoped>\n",
       "    .dataframe tbody tr th:only-of-type {\n",
       "        vertical-align: middle;\n",
       "    }\n",
       "\n",
       "    .dataframe tbody tr th {\n",
       "        vertical-align: top;\n",
       "    }\n",
       "\n",
       "    .dataframe thead th {\n",
       "        text-align: right;\n",
       "    }\n",
       "</style>\n",
       "<table border=\"1\" class=\"dataframe\">\n",
       "  <thead>\n",
       "    <tr style=\"text-align: right;\">\n",
       "      <th></th>\n",
       "      <th>Tissue</th>\n",
       "      <th>gene_name</th>\n",
       "      <th>ENSG</th>\n",
       "    </tr>\n",
       "  </thead>\n",
       "  <tbody>\n",
       "  </tbody>\n",
       "</table>\n",
       "</div>"
      ],
      "text/plain": [
       "Empty DataFrame\n",
       "Columns: [Tissue, gene_name, ENSG]\n",
       "Index: []"
      ]
     },
     "execution_count": 27,
     "metadata": {},
     "output_type": "execute_result"
    }
   ],
   "source": [
    "mendelian_list.loc[mendelian_list[\"ENSG\"] == None]"
   ]
  },
  {
   "cell_type": "code",
   "execution_count": 28,
   "metadata": {},
   "outputs": [
    {
     "data": {
      "text/html": [
       "<div>\n",
       "<style scoped>\n",
       "    .dataframe tbody tr th:only-of-type {\n",
       "        vertical-align: middle;\n",
       "    }\n",
       "\n",
       "    .dataframe tbody tr th {\n",
       "        vertical-align: top;\n",
       "    }\n",
       "\n",
       "    .dataframe thead th {\n",
       "        text-align: right;\n",
       "    }\n",
       "</style>\n",
       "<table border=\"1\" class=\"dataframe\">\n",
       "  <thead>\n",
       "    <tr style=\"text-align: right;\">\n",
       "      <th></th>\n",
       "      <th>Tissue</th>\n",
       "      <th>gene_name</th>\n",
       "      <th>ENSG</th>\n",
       "    </tr>\n",
       "  </thead>\n",
       "  <tbody>\n",
       "    <tr>\n",
       "      <th>0</th>\n",
       "      <td>LDL</td>\n",
       "      <td>PCSK9</td>\n",
       "      <td>ENSG00000169174</td>\n",
       "    </tr>\n",
       "    <tr>\n",
       "      <th>1</th>\n",
       "      <td>LDL</td>\n",
       "      <td>APOB</td>\n",
       "      <td>ENSG00000084674</td>\n",
       "    </tr>\n",
       "    <tr>\n",
       "      <th>2</th>\n",
       "      <td>LDL</td>\n",
       "      <td>APOE</td>\n",
       "      <td>ENSG00000130203</td>\n",
       "    </tr>\n",
       "    <tr>\n",
       "      <th>3</th>\n",
       "      <td>LDL</td>\n",
       "      <td>APOC2</td>\n",
       "      <td>ENSG00000234906</td>\n",
       "    </tr>\n",
       "    <tr>\n",
       "      <th>4</th>\n",
       "      <td>LDL</td>\n",
       "      <td>LPL</td>\n",
       "      <td>ENSG00000175445</td>\n",
       "    </tr>\n",
       "  </tbody>\n",
       "</table>\n",
       "</div>"
      ],
      "text/plain": [
       "  Tissue gene_name             ENSG\n",
       "0    LDL     PCSK9  ENSG00000169174\n",
       "1    LDL      APOB  ENSG00000084674\n",
       "2    LDL      APOE  ENSG00000130203\n",
       "3    LDL     APOC2  ENSG00000234906\n",
       "4    LDL       LPL  ENSG00000175445"
      ]
     },
     "execution_count": 28,
     "metadata": {},
     "output_type": "execute_result"
    }
   ],
   "source": [
    "mendelian_list.head()"
   ]
  },
  {
   "cell_type": "code",
   "execution_count": 54,
   "metadata": {},
   "outputs": [],
   "source": [
    "def get_ecaviar_results(mendelian, ecaviar_directory, coloc_cutoff):\n",
    "    efiles = glob.glob(ecaviar_directory + '*col')\n",
    "    print(\"number of ecaviar_files: \", str(len(efiles)))\n",
    "    \n",
    "    #organize file into a dataframe\n",
    "    efiles_nodir = [i.split(\"/\")[-1] for i in efiles]\n",
    "    position = [int(i.split(\"_\")[1]) for i in efiles_nodir]\n",
    "    genes = [i.split(\"_\")[2] for i in efiles_nodir]\n",
    "\n",
    "    data = {'Filename': efiles, 'Locus': position, 'Gene': genes}\n",
    "    efile_df = pd.DataFrame(data)\n",
    "\n",
    "    efile_df = efile_df.sort_values(['Locus'])\n",
    "    \n",
    "    #check what mendelian files are in the list of hits\n",
    "    output_list = []\n",
    "\n",
    "    #print number of unique locus\n",
    "    print(\"number of unique locus \", len(efile_df[\"Locus\"].unique()))\n",
    "\n",
    "    counter = 0\n",
    "\n",
    "    for i in efile_df[\"Locus\"].unique():\n",
    "\n",
    "        efile_locus_df = efile_df[efile_df[\"Locus\"] == i]\n",
    "\n",
    "        output_string = str(i) + ': '\n",
    "\n",
    "        output_string = output_string + str(len(efile_locus_df)) + \": \"\n",
    "\n",
    "        for index, row in efile_locus_df.iterrows():\n",
    "            eCAVIAR_output = pd.read_csv(row[\"Filename\"] , sep= '\\t')\n",
    "            maxCLPP = max(eCAVIAR_output[\"CLPP\"])\n",
    "            maxPCausalset = max(eCAVIAR_output[\"Prob_in_pCausalSet\"])\n",
    "\n",
    "            if maxCLPP > coloc_cutoff:\n",
    "                output_string = output_string + str(row[\"Gene\"]) + \", \"\n",
    "\n",
    "        counter += 1\n",
    "        \n",
    "#        locus: 55519174: 21: ENSG00000169174.9, \n",
    "\n",
    "\n",
    "        output_list.append(output_string)\n",
    "\n",
    "    genes = [x.split(':')[-1][1:-3] for x in output_list]\n",
    "    colocalized_gene_set = []\n",
    "    for i in genes:\n",
    "        if len(i) > 1:\n",
    "            for name in i.split(\", \"):\n",
    "                colocalized_gene_set.append(name)\n",
    "\n",
    "    colocalized_gene_set = [i.split(\".\")[0] for i in colocalized_gene_set]\n",
    "\n",
    "    total_gene_set = list(efile_df[\"Gene\"].unique())\n",
    "    total_gene_set = set([i.split(\".\")[0] for i in total_gene_set])\n",
    "\n",
    "    total_mendelian = 0\n",
    "\n",
    "    for i in total_gene_set:\n",
    "        if i in mendelian:\n",
    "            total_mendelian += 1\n",
    "\n",
    "\n",
    "    colocalized_mendelian = 0\n",
    "\n",
    "    for i in colocalized_gene_set:\n",
    "        if i in mendelian:\n",
    "            print(i)\n",
    "            colocalized_mendelian += 1    \n",
    "            \n",
    "    for i in output_list:\n",
    "        for j in mendelian:\n",
    "            if j == None:\n",
    "                continue\n",
    "            if \"|\" in j:\n",
    "                for name in j.split(\"|\"):\n",
    "                    if name in i:                    \n",
    "                        print(i)\n",
    "                        print(len(i.split(\",\"))-1)\n",
    "                    \n",
    "            elif j in i:\n",
    "                print(i)\n",
    "                print(len(i.split(\",\"))-1)\n",
    "                \n",
    "    print(\"colocalized mendelian: \" , colocalized_mendelian)\n",
    "    print(\"colocalized non-mendel: \", len(colocalized_gene_set) - colocalized_mendelian)\n",
    "    print(\"colocalized total: \", len(colocalized_gene_set))\n",
    "\n",
    "    print(\"non-colocalized mendelian: \" , total_mendelian - colocalized_mendelian)\n",
    "    print(\"non-mendel non-coloc: \", len(total_gene_set) - len(colocalized_gene_set) - (total_mendelian - colocalized_mendelian))\n",
    "    print(\"total non-coloc: \", len(total_gene_set) - len(colocalized_gene_set))\n",
    "\n",
    "    print(\"total mendelian: \" , total_mendelian)     \n",
    "    print(\"total non-mendel: \", len(total_gene_set) - total_mendelian)\n",
    "    print(\"total     set: \", len(total_gene_set))"
   ]
  },
  {
   "cell_type": "markdown",
   "metadata": {},
   "source": [
    "### test for Breast Cancer"
   ]
  },
  {
   "cell_type": "code",
   "execution_count": 55,
   "metadata": {},
   "outputs": [],
   "source": [
    "mendelian = list(mendelian_list[mendelian_list[\"Tissue\"] == \"BC\"][\"ENSG\"])\n"
   ]
  },
  {
   "cell_type": "code",
   "execution_count": 57,
   "metadata": {},
   "outputs": [],
   "source": [
    "mendelian_new = []\n",
    "\n",
    "for ensg in mendelian:\n",
    "    if \"|\" in ensg:\n",
    "        mendelian_new.extend(ensg.split(\"|\"))\n",
    "    else:\n",
    "        mendelian_new.append(ensg)"
   ]
  },
  {
   "cell_type": "code",
   "execution_count": 60,
   "metadata": {},
   "outputs": [
    {
     "data": {
      "text/plain": [
       "39"
      ]
     },
     "execution_count": 60,
     "metadata": {},
     "output_type": "execute_result"
    }
   ],
   "source": [
    "len(mendelian_new)"
   ]
  },
  {
   "cell_type": "code",
   "execution_count": 59,
   "metadata": {},
   "outputs": [
    {
     "name": "stdout",
     "output_type": "stream",
     "text": [
      "number of ecaviar_files:  17846\n",
      "number of unique locus  561\n",
      "colocalized mendelian:  0\n",
      "colocalized non-mendel:  18\n",
      "colocalized total:  18\n",
      "non-colocalized mendelian:  17\n",
      "non-mendel non-coloc:  9619\n",
      "total non-coloc:  9636\n",
      "total mendelian:  17\n",
      "total non-mendel:  9637\n",
      "total     set:  9654\n"
     ]
    }
   ],
   "source": [
    "ecaviar_directory = '/net/home/dlee/GTEx/gwas/zhang_2020_bc/eCAVIAR_results/eCAVIAR_output/Breast_Mammary_Tissue/'\n",
    "\n",
    "get_ecaviar_results(mendelian_new, ecaviar_directory, 0.5)"
   ]
  },
  {
   "cell_type": "markdown",
   "metadata": {},
   "source": [
    "### test for t2d"
   ]
  },
  {
   "cell_type": "code",
   "execution_count": 62,
   "metadata": {},
   "outputs": [],
   "source": [
    "mendelian = list(mendelian_list[mendelian_list[\"Tissue\"] == \"T2D\"][\"ENSG\"])\n",
    "\n",
    "mendelian_new = []\n",
    "\n",
    "for ensg in mendelian:\n",
    "    if ensg == None:\n",
    "        continue        \n",
    "    if \"|\" in ensg:\n",
    "        mendelian_new.extend(ensg.split(\"|\"))\n",
    "    else:\n",
    "        mendelian_new.append(ensg)"
   ]
  },
  {
   "cell_type": "code",
   "execution_count": 64,
   "metadata": {},
   "outputs": [
    {
     "name": "stdout",
     "output_type": "stream",
     "text": [
      "number of ecaviar_files:  6280\n",
      "number of unique locus  251\n",
      "colocalized mendelian:  0\n",
      "colocalized non-mendel:  1\n",
      "colocalized total:  1\n",
      "non-colocalized mendelian:  9\n",
      "non-mendel non-coloc:  4149\n",
      "total non-coloc:  4158\n",
      "total mendelian:  9\n",
      "total non-mendel:  4150\n",
      "total     set:  4159\n"
     ]
    }
   ],
   "source": [
    "ecaviar_directory = '/net/data/GTEx/gwas/mahajan_2018_t2d/eCAVIAR_results/eCAVIAR_output/Liver/'\n",
    "\n",
    "get_ecaviar_results(mendelian_new, ecaviar_directory, 0.5)"
   ]
  },
  {
   "cell_type": "code",
   "execution_count": 65,
   "metadata": {},
   "outputs": [
    {
     "name": "stdout",
     "output_type": "stream",
     "text": [
      "number of ecaviar_files:  6280\n",
      "number of unique locus  251\n",
      "colocalized mendelian:  0\n",
      "colocalized non-mendel:  8\n",
      "colocalized total:  8\n",
      "non-colocalized mendelian:  9\n",
      "non-mendel non-coloc:  4142\n",
      "total non-coloc:  4151\n",
      "total mendelian:  9\n",
      "total non-mendel:  4150\n",
      "total     set:  4159\n"
     ]
    }
   ],
   "source": [
    "get_ecaviar_results(mendelian_new, ecaviar_directory, 0.2)"
   ]
  },
  {
   "cell_type": "code",
   "execution_count": 66,
   "metadata": {},
   "outputs": [
    {
     "name": "stdout",
     "output_type": "stream",
     "text": [
      "number of ecaviar_files:  6345\n",
      "number of unique locus  251\n",
      "colocalized mendelian:  0\n",
      "colocalized non-mendel:  284\n",
      "colocalized total:  284\n",
      "non-colocalized mendelian:  10\n",
      "non-mendel non-coloc:  3902\n",
      "total non-coloc:  3912\n",
      "total mendelian:  10\n",
      "total non-mendel:  4186\n",
      "total     set:  4196\n"
     ]
    }
   ],
   "source": [
    "ecaviar_directory = '/net/data/GTEx/gwas/mahajan_2018_t2d/eCAVIAR_results/eCAVIAR_output/Pancreas/'\n",
    "get_ecaviar_results(mendelian_new, ecaviar_directory, 0.5)"
   ]
  },
  {
   "cell_type": "code",
   "execution_count": 67,
   "metadata": {},
   "outputs": [
    {
     "name": "stdout",
     "output_type": "stream",
     "text": [
      "number of ecaviar_files:  6345\n",
      "number of unique locus  251\n",
      "colocalized mendelian:  0\n",
      "colocalized non-mendel:  298\n",
      "colocalized total:  298\n",
      "non-colocalized mendelian:  10\n",
      "non-mendel non-coloc:  3888\n",
      "total non-coloc:  3898\n",
      "total mendelian:  10\n",
      "total non-mendel:  4186\n",
      "total     set:  4196\n"
     ]
    }
   ],
   "source": [
    "get_ecaviar_results(mendelian_new, ecaviar_directory, 0.2)"
   ]
  },
  {
   "cell_type": "code",
   "execution_count": 68,
   "metadata": {},
   "outputs": [
    {
     "name": "stdout",
     "output_type": "stream",
     "text": [
      "number of ecaviar_files:  5787\n",
      "number of unique locus  250\n",
      "colocalized mendelian:  0\n",
      "colocalized non-mendel:  255\n",
      "colocalized total:  255\n",
      "non-colocalized mendelian:  5\n",
      "non-mendel non-coloc:  3602\n",
      "total non-coloc:  3607\n",
      "total mendelian:  5\n",
      "total non-mendel:  3857\n",
      "total     set:  3862\n"
     ]
    }
   ],
   "source": [
    "ecaviar_directory = '/net/data/GTEx/gwas/mahajan_2018_t2d/eCAVIAR_results/eCAVIAR_output/Whole_Blood/'\n",
    "\n",
    "get_ecaviar_results(mendelian_new, ecaviar_directory, 0.5)"
   ]
  },
  {
   "cell_type": "code",
   "execution_count": 69,
   "metadata": {},
   "outputs": [
    {
     "name": "stdout",
     "output_type": "stream",
     "text": [
      "number of ecaviar_files:  5787\n",
      "number of unique locus  250\n",
      "colocalized mendelian:  0\n",
      "colocalized non-mendel:  274\n",
      "colocalized total:  274\n",
      "non-colocalized mendelian:  5\n",
      "non-mendel non-coloc:  3583\n",
      "total non-coloc:  3588\n",
      "total mendelian:  5\n",
      "total non-mendel:  3857\n",
      "total     set:  3862\n"
     ]
    }
   ],
   "source": [
    "get_ecaviar_results(mendelian_new, ecaviar_directory, 0.2)"
   ]
  },
  {
   "cell_type": "markdown",
   "metadata": {},
   "source": [
    "### test for UC"
   ]
  },
  {
   "cell_type": "code",
   "execution_count": 70,
   "metadata": {},
   "outputs": [],
   "source": [
    "mendelian = list(mendelian_list[mendelian_list[\"Tissue\"] == \"UC\"][\"ENSG\"])\n",
    "\n",
    "mendelian_new = []\n",
    "\n",
    "for ensg in mendelian:\n",
    "    if ensg == None:\n",
    "        continue        \n",
    "    if \"|\" in ensg:\n",
    "        mendelian_new.extend(ensg.split(\"|\"))\n",
    "    else:\n",
    "        mendelian_new.append(ensg)"
   ]
  },
  {
   "cell_type": "code",
   "execution_count": 74,
   "metadata": {},
   "outputs": [
    {
     "name": "stdout",
     "output_type": "stream",
     "text": [
      "number of ecaviar_files:  14138\n",
      "number of unique locus  371\n",
      "colocalized mendelian:  0\n",
      "colocalized non-mendel:  677\n",
      "colocalized total:  677\n",
      "non-colocalized mendelian:  5\n",
      "non-mendel non-coloc:  7779\n",
      "total non-coloc:  7784\n",
      "total mendelian:  5\n",
      "total non-mendel:  8456\n",
      "total     set:  8461\n",
      "number of ecaviar_files:  14138\n",
      "number of unique locus  371\n",
      "colocalized mendelian:  0\n",
      "colocalized non-mendel:  730\n",
      "colocalized total:  730\n",
      "non-colocalized mendelian:  5\n",
      "non-mendel non-coloc:  7726\n",
      "total non-coloc:  7731\n",
      "total mendelian:  5\n",
      "total non-mendel:  8456\n",
      "total     set:  8461\n"
     ]
    }
   ],
   "source": [
    "ecaviar_directory = '/net/data/GTEx/gwas/liu_2015_and_goyette_2015_ibd/uc_eCAVIAR/eCAVIAR_output/Colon_Transverse/'\n",
    "\n",
    "get_ecaviar_results(mendelian_new, ecaviar_directory, 0.5)\n",
    "\n",
    "get_ecaviar_results(mendelian_new, ecaviar_directory, 0.2)"
   ]
  },
  {
   "cell_type": "code",
   "execution_count": 72,
   "metadata": {},
   "outputs": [
    {
     "name": "stdout",
     "output_type": "stream",
     "text": [
      "number of ecaviar_files:  13713\n",
      "number of unique locus  371\n",
      "colocalized mendelian:  0\n",
      "colocalized non-mendel:  654\n",
      "colocalized total:  654\n",
      "non-colocalized mendelian:  4\n",
      "non-mendel non-coloc:  7546\n",
      "total non-coloc:  7550\n",
      "total mendelian:  4\n",
      "total non-mendel:  8200\n",
      "total     set:  8204\n"
     ]
    }
   ],
   "source": [
    "ecaviar_directory = '/net/data/GTEx/gwas/liu_2015_and_goyette_2015_ibd/uc_eCAVIAR/eCAVIAR_output/Colon_Sigmoid/'\n",
    "get_ecaviar_results(mendelian_new, ecaviar_directory, 0.5)"
   ]
  },
  {
   "cell_type": "code",
   "execution_count": 73,
   "metadata": {},
   "outputs": [
    {
     "name": "stdout",
     "output_type": "stream",
     "text": [
      "number of ecaviar_files:  13713\n",
      "number of unique locus  371\n",
      "colocalized mendelian:  0\n",
      "colocalized non-mendel:  703\n",
      "colocalized total:  703\n",
      "non-colocalized mendelian:  4\n",
      "non-mendel non-coloc:  7497\n",
      "total non-coloc:  7501\n",
      "total mendelian:  4\n",
      "total non-mendel:  8200\n",
      "total     set:  8204\n"
     ]
    }
   ],
   "source": [
    "get_ecaviar_results(mendelian_new, ecaviar_directory, 0.2)"
   ]
  },
  {
   "cell_type": "code",
   "execution_count": 75,
   "metadata": {},
   "outputs": [
    {
     "name": "stdout",
     "output_type": "stream",
     "text": [
      "number of ecaviar_files:  14478\n",
      "number of unique locus  371\n",
      "colocalized mendelian:  0\n",
      "colocalized non-mendel:  694\n",
      "colocalized total:  694\n",
      "non-colocalized mendelian:  5\n",
      "non-mendel non-coloc:  8019\n",
      "total non-coloc:  8024\n",
      "total mendelian:  5\n",
      "total non-mendel:  8713\n",
      "total     set:  8718\n",
      "number of ecaviar_files:  14478\n",
      "number of unique locus  371\n",
      "colocalized mendelian:  0\n",
      "colocalized non-mendel:  729\n",
      "colocalized total:  729\n",
      "non-colocalized mendelian:  5\n",
      "non-mendel non-coloc:  7984\n",
      "total non-coloc:  7989\n",
      "total mendelian:  5\n",
      "total non-mendel:  8713\n",
      "total     set:  8718\n"
     ]
    }
   ],
   "source": [
    "ecaviar_directory = '/net/data/GTEx/gwas/liu_2015_and_goyette_2015_ibd/uc_eCAVIAR/eCAVIAR_output/Small_Intestine_Terminal_Ileum/'\n",
    "\n",
    "get_ecaviar_results(mendelian_new, ecaviar_directory, 0.5)\n",
    "\n",
    "get_ecaviar_results(mendelian_new, ecaviar_directory, 0.2)"
   ]
  },
  {
   "cell_type": "markdown",
   "metadata": {},
   "source": [
    "### test for CD"
   ]
  },
  {
   "cell_type": "code",
   "execution_count": 79,
   "metadata": {},
   "outputs": [],
   "source": [
    "mendelian = list(mendelian_list[mendelian_list[\"Tissue\"] == \"CD\"][\"ENSG\"])\n",
    "\n",
    "mendelian_new = []\n",
    "\n",
    "for ensg in mendelian:\n",
    "    if ensg == None:\n",
    "        continue        \n",
    "    if \"|\" in ensg:\n",
    "        mendelian_new.extend(ensg.split(\"|\"))\n",
    "    else:\n",
    "        mendelian_new.append(ensg)"
   ]
  },
  {
   "cell_type": "code",
   "execution_count": 81,
   "metadata": {},
   "outputs": [
    {
     "name": "stdout",
     "output_type": "stream",
     "text": [
      "number of ecaviar_files:  13798\n",
      "number of unique locus  371\n",
      "ENSG00000167207\n",
      "50304249: 19: ENSG00000166164.11, ENSG00000260249.2, ENSG00000205423.7, ENSG00000155393.8, ENSG00000261685.2, ENSG00000102935.7, ENSG00000121281.8, ENSG00000140807.4, ENSG00000205414.1, ENSG00000103449.7, ENSG00000260769.1, ENSG00000261644.1, ENSG00000167208.10, ENSG00000083799.13, ENSG00000260929.1, ENSG00000167207.7, ENSG00000121274.8, \n",
      "17\n",
      "colocalized mendelian:  1\n",
      "colocalized non-mendel:  903\n",
      "colocalized total:  904\n",
      "non-colocalized mendelian:  8\n",
      "non-mendel non-coloc:  7011\n",
      "total non-coloc:  7019\n",
      "total mendelian:  9\n",
      "total non-mendel:  7914\n",
      "total     set:  7923\n",
      "number of ecaviar_files:  13798\n",
      "number of unique locus  371\n",
      "ENSG00000167207\n",
      "50304249: 19: ENSG00000166164.11, ENSG00000260249.2, ENSG00000205423.7, ENSG00000155393.8, ENSG00000261685.2, ENSG00000102935.7, ENSG00000121281.8, ENSG00000140807.4, ENSG00000205414.1, ENSG00000103449.7, ENSG00000260769.1, ENSG00000261644.1, ENSG00000167208.10, ENSG00000083799.13, ENSG00000260929.1, ENSG00000167207.7, ENSG00000121274.8, \n",
      "17\n",
      "colocalized mendelian:  1\n",
      "colocalized non-mendel:  937\n",
      "colocalized total:  938\n",
      "non-colocalized mendelian:  8\n",
      "non-mendel non-coloc:  6977\n",
      "total non-coloc:  6985\n",
      "total mendelian:  9\n",
      "total non-mendel:  7914\n",
      "total     set:  7923\n"
     ]
    }
   ],
   "source": [
    "ecaviar_directory = '/net/data/GTEx/gwas/liu_2015_and_goyette_2015_ibd/cd_eCAVIAR/eCAVIAR_output/Colon_Sigmoid/'\n",
    "\n",
    "get_ecaviar_results(mendelian_new, ecaviar_directory, 0.5)\n",
    "\n",
    "get_ecaviar_results(mendelian_new, ecaviar_directory, 0.2)"
   ]
  },
  {
   "cell_type": "code",
   "execution_count": 82,
   "metadata": {},
   "outputs": [
    {
     "name": "stdout",
     "output_type": "stream",
     "text": [
      "number of ecaviar_files:  14695\n",
      "number of unique locus  371\n",
      "ENSG00000167207\n",
      "50304249: 21: ENSG00000167208.10, ENSG00000261685.2, ENSG00000121274.8, ENSG00000260381.2, ENSG00000140807.4, ENSG00000270120.1, ENSG00000260769.1, ENSG00000102935.7, ENSG00000166164.11, ENSG00000205423.7, ENSG00000083799.13, ENSG00000155393.8, ENSG00000260249.2, ENSG00000103449.7, ENSG00000261644.1, ENSG00000167207.7, ENSG00000205414.1, ENSG00000121281.8, ENSG00000260929.1, \n",
      "19\n",
      "colocalized mendelian:  1\n",
      "colocalized non-mendel:  929\n",
      "colocalized total:  930\n",
      "non-colocalized mendelian:  9\n",
      "non-mendel non-coloc:  7581\n",
      "total non-coloc:  7590\n",
      "total mendelian:  10\n",
      "total non-mendel:  8510\n",
      "total     set:  8520\n",
      "number of ecaviar_files:  14695\n",
      "number of unique locus  371\n",
      "ENSG00000167207\n",
      "50304249: 21: ENSG00000167208.10, ENSG00000261685.2, ENSG00000121274.8, ENSG00000260381.2, ENSG00000140807.4, ENSG00000270120.1, ENSG00000260769.1, ENSG00000102935.7, ENSG00000166164.11, ENSG00000205423.7, ENSG00000083799.13, ENSG00000155393.8, ENSG00000260249.2, ENSG00000103449.7, ENSG00000261644.1, ENSG00000167207.7, ENSG00000205414.1, ENSG00000121281.8, ENSG00000260929.1, \n",
      "19\n",
      "colocalized mendelian:  1\n",
      "colocalized non-mendel:  964\n",
      "colocalized total:  965\n",
      "non-colocalized mendelian:  9\n",
      "non-mendel non-coloc:  7546\n",
      "total non-coloc:  7555\n",
      "total mendelian:  10\n",
      "total non-mendel:  8510\n",
      "total     set:  8520\n"
     ]
    }
   ],
   "source": [
    "ecaviar_directory = '/net/data/GTEx/gwas/liu_2015_and_goyette_2015_ibd/cd_eCAVIAR/eCAVIAR_output/Small_Intestine_Terminal_Ileum/'\n",
    "\n",
    "get_ecaviar_results(mendelian_new, ecaviar_directory, 0.5)\n",
    "\n",
    "get_ecaviar_results(mendelian_new, ecaviar_directory, 0.2)"
   ]
  },
  {
   "cell_type": "code",
   "execution_count": 83,
   "metadata": {},
   "outputs": [
    {
     "name": "stdout",
     "output_type": "stream",
     "text": [
      "number of ecaviar_files:  14287\n",
      "number of unique locus  371\n",
      "colocalized mendelian:  0\n",
      "colocalized non-mendel:  13\n",
      "colocalized total:  13\n",
      "non-colocalized mendelian:  10\n",
      "non-mendel non-coloc:  8210\n",
      "total non-coloc:  8220\n",
      "total mendelian:  10\n",
      "total non-mendel:  8223\n",
      "total     set:  8233\n",
      "number of ecaviar_files:  14287\n",
      "number of unique locus  371\n",
      "colocalized mendelian:  0\n",
      "colocalized non-mendel:  36\n",
      "colocalized total:  36\n",
      "non-colocalized mendelian:  10\n",
      "non-mendel non-coloc:  8187\n",
      "total non-coloc:  8197\n",
      "total mendelian:  10\n",
      "total non-mendel:  8223\n",
      "total     set:  8233\n"
     ]
    }
   ],
   "source": [
    "ecaviar_directory = '/net/data/GTEx/gwas/liu_2015_and_goyette_2015_ibd/cd_eCAVIAR/eCAVIAR_output/Colon_Transverse/'\n",
    "\n",
    "get_ecaviar_results(mendelian_new, ecaviar_directory, 0.5)\n",
    "\n",
    "get_ecaviar_results(mendelian_new, ecaviar_directory, 0.2)"
   ]
  },
  {
   "cell_type": "markdown",
   "metadata": {},
   "source": [
    "### test for HDL"
   ]
  },
  {
   "cell_type": "code",
   "execution_count": 84,
   "metadata": {},
   "outputs": [],
   "source": [
    "mendelian = list(mendelian_list[mendelian_list[\"Tissue\"] == \"HDL\"][\"ENSG\"])\n",
    "\n",
    "mendelian_new = []\n",
    "\n",
    "for ensg in mendelian:\n",
    "    if ensg == None:\n",
    "        continue        \n",
    "    if \"|\" in ensg:\n",
    "        mendelian_new.extend(ensg.split(\"|\"))\n",
    "    else:\n",
    "        mendelian_new.append(ensg)"
   ]
  },
  {
   "cell_type": "code",
   "execution_count": 86,
   "metadata": {},
   "outputs": [
    {
     "name": "stdout",
     "output_type": "stream",
     "text": [
      "number of ecaviar_files:  7252\n",
      "number of unique locus  245\n",
      "colocalized mendelian:  0\n",
      "colocalized non-mendel:  16\n",
      "colocalized total:  16\n",
      "non-colocalized mendelian:  6\n",
      "non-mendel non-coloc:  3987\n",
      "total non-coloc:  3993\n",
      "total mendelian:  6\n",
      "total non-mendel:  4003\n",
      "total     set:  4009\n",
      "\n",
      "number of ecaviar_files:  7252\n",
      "number of unique locus  245\n",
      "colocalized mendelian:  0\n",
      "colocalized non-mendel:  19\n",
      "colocalized total:  19\n",
      "non-colocalized mendelian:  6\n",
      "non-mendel non-coloc:  3984\n",
      "total non-coloc:  3990\n",
      "total mendelian:  6\n",
      "total non-mendel:  4003\n",
      "total     set:  4009\n"
     ]
    }
   ],
   "source": [
    "ecaviar_directory = '/net/data/GTEx/gwas/ukbb_hdl_conditioned/eCAVIAR/eCAVIAR_output/Whole_Blood/'\n",
    "\n",
    "get_ecaviar_results(mendelian_new, ecaviar_directory, 0.5)\n",
    "print(\"\")\n",
    "\n",
    "get_ecaviar_results(mendelian_new, ecaviar_directory, 0.2)"
   ]
  },
  {
   "cell_type": "code",
   "execution_count": 87,
   "metadata": {},
   "outputs": [
    {
     "name": "stdout",
     "output_type": "stream",
     "text": [
      "number of ecaviar_files:  7841\n",
      "number of unique locus  249\n",
      "colocalized mendelian:  0\n",
      "colocalized non-mendel:  21\n",
      "colocalized total:  21\n",
      "non-colocalized mendelian:  7\n",
      "non-mendel non-coloc:  4276\n",
      "total non-coloc:  4283\n",
      "total mendelian:  7\n",
      "total non-mendel:  4297\n",
      "total     set:  4304\n",
      "\n",
      "number of ecaviar_files:  7841\n",
      "number of unique locus  249\n",
      "colocalized mendelian:  0\n",
      "colocalized non-mendel:  26\n",
      "colocalized total:  26\n",
      "non-colocalized mendelian:  7\n",
      "non-mendel non-coloc:  4271\n",
      "total non-coloc:  4278\n",
      "total mendelian:  7\n",
      "total non-mendel:  4297\n",
      "total     set:  4304\n"
     ]
    }
   ],
   "source": [
    "ecaviar_directory = '/net/data/GTEx/gwas/ukbb_hdl_conditioned/eCAVIAR/eCAVIAR_output/Liver/'\n",
    "\n",
    "get_ecaviar_results(mendelian_new, ecaviar_directory, 0.5)\n",
    "print(\"\")\n",
    "\n",
    "get_ecaviar_results(mendelian_new, ecaviar_directory, 0.2)"
   ]
  },
  {
   "cell_type": "code",
   "execution_count": 88,
   "metadata": {},
   "outputs": [
    {
     "name": "stdout",
     "output_type": "stream",
     "text": [
      "number of ecaviar_files:  8221\n",
      "number of unique locus  249\n",
      "colocalized mendelian:  0\n",
      "colocalized non-mendel:  28\n",
      "colocalized total:  28\n",
      "non-colocalized mendelian:  7\n",
      "non-mendel non-coloc:  4521\n",
      "total non-coloc:  4528\n",
      "total mendelian:  7\n",
      "total non-mendel:  4549\n",
      "total     set:  4556\n",
      "\n",
      "number of ecaviar_files:  8221\n",
      "number of unique locus  249\n",
      "ENSG00000100979\n",
      "44545460: 48: ENSG00000271984.1, ENSG00000100979.10, \n",
      "2\n",
      "colocalized mendelian:  1\n",
      "colocalized non-mendel:  41\n",
      "colocalized total:  42\n",
      "non-colocalized mendelian:  6\n",
      "non-mendel non-coloc:  4508\n",
      "total non-coloc:  4514\n",
      "total mendelian:  7\n",
      "total non-mendel:  4549\n",
      "total     set:  4556\n"
     ]
    }
   ],
   "source": [
    "ecaviar_directory = '/net/data/GTEx/gwas/ukbb_hdl_conditioned/eCAVIAR/eCAVIAR_output/Adipose_Subcutaneous/'\n",
    "\n",
    "get_ecaviar_results(mendelian_new, ecaviar_directory, 0.5)\n",
    "print(\"\")\n",
    "\n",
    "get_ecaviar_results(mendelian_new, ecaviar_directory, 0.2)"
   ]
  },
  {
   "cell_type": "markdown",
   "metadata": {},
   "source": [
    "### test for LDL"
   ]
  },
  {
   "cell_type": "code",
   "execution_count": 89,
   "metadata": {},
   "outputs": [],
   "source": [
    "mendelian = list(mendelian_list[mendelian_list[\"Tissue\"] == \"LDL\"][\"ENSG\"])\n",
    "\n",
    "mendelian_new = []\n",
    "\n",
    "for ensg in mendelian:\n",
    "    if ensg == None:\n",
    "        continue        \n",
    "    if \"|\" in ensg:\n",
    "        mendelian_new.extend(ensg.split(\"|\"))\n",
    "    else:\n",
    "        mendelian_new.append(ensg)"
   ]
  },
  {
   "cell_type": "code",
   "execution_count": 92,
   "metadata": {},
   "outputs": [
    {
     "name": "stdout",
     "output_type": "stream",
     "text": [
      "number of ecaviar_files:  3469\n",
      "number of unique locus  126\n",
      "colocalized mendelian:  0\n",
      "colocalized non-mendel:  13\n",
      "colocalized total:  13\n",
      "non-colocalized mendelian:  3\n",
      "non-mendel non-coloc:  2085\n",
      "total non-coloc:  2088\n",
      "total mendelian:  3\n",
      "total non-mendel:  2098\n",
      "total     set:  2101\n",
      "\n",
      "number of ecaviar_files:  3469\n",
      "number of unique locus  126\n",
      "ENSG00000169174\n",
      "55519174: 21: ENSG00000169174.9, \n",
      "1\n",
      "colocalized mendelian:  1\n",
      "colocalized non-mendel:  15\n",
      "colocalized total:  16\n",
      "non-colocalized mendelian:  2\n",
      "non-mendel non-coloc:  2083\n",
      "total non-coloc:  2085\n",
      "total mendelian:  3\n",
      "total non-mendel:  2098\n",
      "total     set:  2101\n"
     ]
    }
   ],
   "source": [
    "ecaviar_directory = '/net/data/GTEx/gwas/ukbb_ldl_conditioned/eCAVIAR/eCAVIAR_output/Whole_Blood/'\n",
    "\n",
    "get_ecaviar_results(mendelian_new, ecaviar_directory, 0.5)\n",
    "print(\"\")\n",
    "\n",
    "get_ecaviar_results(mendelian_new, ecaviar_directory, 0.2)"
   ]
  },
  {
   "cell_type": "code",
   "execution_count": 93,
   "metadata": {},
   "outputs": [
    {
     "name": "stdout",
     "output_type": "stream",
     "text": [
      "number of ecaviar_files:  3698\n",
      "number of unique locus  126\n",
      "colocalized mendelian:  0\n",
      "colocalized non-mendel:  13\n",
      "colocalized total:  13\n",
      "non-colocalized mendelian:  5\n",
      "non-mendel non-coloc:  2204\n",
      "total non-coloc:  2209\n",
      "total mendelian:  5\n",
      "total non-mendel:  2217\n",
      "total     set:  2222\n",
      "\n",
      "number of ecaviar_files:  3698\n",
      "number of unique locus  126\n",
      "colocalized mendelian:  0\n",
      "colocalized non-mendel:  14\n",
      "colocalized total:  14\n",
      "non-colocalized mendelian:  5\n",
      "non-mendel non-coloc:  2203\n",
      "total non-coloc:  2208\n",
      "total mendelian:  5\n",
      "total non-mendel:  2217\n",
      "total     set:  2222\n"
     ]
    }
   ],
   "source": [
    "ecaviar_directory = '/net/data/GTEx/gwas/ukbb_ldl_conditioned/eCAVIAR/eCAVIAR_output/Liver/'\n",
    "\n",
    "get_ecaviar_results(mendelian_new, ecaviar_directory, 0.5)\n",
    "print(\"\")\n",
    "\n",
    "get_ecaviar_results(mendelian_new, ecaviar_directory, 0.2)"
   ]
  },
  {
   "cell_type": "code",
   "execution_count": 91,
   "metadata": {},
   "outputs": [
    {
     "name": "stdout",
     "output_type": "stream",
     "text": [
      "number of ecaviar_files:  3834\n",
      "number of unique locus  126\n",
      "colocalized mendelian:  0\n",
      "colocalized non-mendel:  11\n",
      "colocalized total:  11\n",
      "non-colocalized mendelian:  4\n",
      "non-mendel non-coloc:  2327\n",
      "total non-coloc:  2331\n",
      "total mendelian:  4\n",
      "total non-mendel:  2338\n",
      "total     set:  2342\n",
      "\n",
      "number of ecaviar_files:  3834\n",
      "number of unique locus  126\n",
      "colocalized mendelian:  0\n",
      "colocalized non-mendel:  13\n",
      "colocalized total:  13\n",
      "non-colocalized mendelian:  4\n",
      "non-mendel non-coloc:  2325\n",
      "total non-coloc:  2329\n",
      "total mendelian:  4\n",
      "total non-mendel:  2338\n",
      "total     set:  2342\n"
     ]
    }
   ],
   "source": [
    "ecaviar_directory = '/net/data/GTEx/gwas/ukbb_ldl_conditioned/eCAVIAR/eCAVIAR_output/Adipose_Subcutaneous/'\n",
    "\n",
    "get_ecaviar_results(mendelian_new, ecaviar_directory, 0.5)\n",
    "print(\"\")\n",
    "\n",
    "get_ecaviar_results(mendelian_new, ecaviar_directory, 0.2)"
   ]
  },
  {
   "cell_type": "markdown",
   "metadata": {},
   "source": [
    "### test for height"
   ]
  },
  {
   "cell_type": "code",
   "execution_count": 96,
   "metadata": {},
   "outputs": [
    {
     "data": {
      "text/plain": [
       "['ENSG00000169604',\n",
       " 'ENSG00000175054',\n",
       " 'ENSG00000197299',\n",
       " 'ENSG00000094804',\n",
       " 'ENSG00000167513',\n",
       " 'ENSG00000151849',\n",
       " 'ENSG00000108821',\n",
       " 'ENSG00000164692',\n",
       " 'ENSG00000105664',\n",
       " 'ENSG00000005339',\n",
       " 'ENSG00000138346',\n",
       " 'ENSG00000100393',\n",
       " 'ENSG00000072840',\n",
       " 'ENSG00000173040',\n",
       " 'ENSG00000166147',\n",
       " 'ENSG00000068078',\n",
       " 'ENSG00000141756',\n",
       " 'ENSG00000112964',\n",
       " 'ENSG00000147099',\n",
       " 'ENSG00000133703',\n",
       " 'ENSG00000184634',\n",
       " 'ENSG00000104320',\n",
       " 'ENSG00000164190',\n",
       " 'ENSG00000085840',\n",
       " 'ENSG00000115947',\n",
       " 'ENSG00000160299',\n",
       " 'ENSG00000152952',\n",
       " 'ENSG00000179295',\n",
       " 'ENSG00000164754',\n",
       " 'ENSG00000132155',\n",
       " 'ENSG00000160957',\n",
       " 'ENSG00000143622',\n",
       " 'ENSG00000264229',\n",
       " 'ENSG00000169071',\n",
       " 'ENSG00000155850',\n",
       " 'ENSG00000141646',\n",
       " 'ENSG00000072501',\n",
       " 'ENSG00000108055',\n",
       " 'ENSG00000115904',\n",
       " 'ENSG00000080603',\n",
       " 'ENSG00000165392']"
      ]
     },
     "execution_count": 96,
     "metadata": {},
     "output_type": "execute_result"
    }
   ],
   "source": [
    "mendelian_new"
   ]
  },
  {
   "cell_type": "code",
   "execution_count": 95,
   "metadata": {},
   "outputs": [],
   "source": [
    "mendelian = list(mendelian_list[mendelian_list[\"Tissue\"] == \"Height\"][\"ENSG\"])\n",
    "\n",
    "mendelian_new = []\n",
    "\n",
    "for ensg in mendelian:\n",
    "    if ensg == None:\n",
    "        continue        \n",
    "    if \"|\" in ensg:\n",
    "        mendelian_new.extend(ensg.split(\"|\"))\n",
    "    else:\n",
    "        mendelian_new.append(ensg)"
   ]
  },
  {
   "cell_type": "code",
   "execution_count": 97,
   "metadata": {},
   "outputs": [
    {
     "name": "stdout",
     "output_type": "stream",
     "text": [
      "number of ecaviar_files:  34605\n",
      "number of unique locus  1459\n",
      "colocalized mendelian:  0\n",
      "colocalized non-mendel:  175\n",
      "colocalized total:  175\n",
      "non-colocalized mendelian:  25\n",
      "non-mendel non-coloc:  11629\n",
      "total non-coloc:  11654\n",
      "total mendelian:  25\n",
      "total non-mendel:  11804\n",
      "total     set:  11829\n",
      "\n",
      "number of ecaviar_files:  34605\n",
      "number of unique locus  1459\n",
      "colocalized mendelian:  0\n",
      "colocalized non-mendel:  227\n",
      "colocalized total:  227\n",
      "non-colocalized mendelian:  25\n",
      "non-mendel non-coloc:  11577\n",
      "total non-coloc:  11602\n",
      "total mendelian:  25\n",
      "total non-mendel:  11804\n",
      "total     set:  11829\n"
     ]
    }
   ],
   "source": [
    "ecaviar_directory = '/net/data/GTEx/gwas/ukbb_height_conditioned/eCAVIAR/eCAVIAR_output/Muscle_Skeletal/'\n",
    "\n",
    "get_ecaviar_results(mendelian_new, ecaviar_directory, 0.5)\n",
    "print(\"\")\n",
    "\n",
    "get_ecaviar_results(mendelian_new, ecaviar_directory, 0.2)"
   ]
  },
  {
   "cell_type": "code",
   "execution_count": 32,
   "metadata": {},
   "outputs": [
    {
     "name": "stdout",
     "output_type": "stream",
     "text": [
      "17846\n"
     ]
    }
   ],
   "source": [
    "#make output of LD files for eCAVIAR\n",
    "\n",
    "ecaviar_directory = '/net/home/dlee/GTEx/gwas/zhang_2020_bc/eCAVIAR_results/eCAVIAR_output/Breast_Mammary_Tissue/'\n",
    "# ecaviar_directory = '/net/data/GTEx/gwas/mahajan_2018_t2d/eCAVIAR_results/eCAVIAR_output/Whole_Blood/'\n",
    "# ecaviar_directory = '/net/data/GTEx/gwas/ukbb_ldl_conditioned/eCAVIAR/eCAVIAR_output/Whole_Blood/'\n",
    "# ecaviar_directory = '/net/data/GTEx/gwas/ukbb_height_conditioned/eCAVIAR/eCAVIAR_output/Muscle_Skeletal/'\n",
    "# ecaviar_directory = '/net/data/GTEx/gwas/liu_2015_and_goyette_2015_ibd/cd_eCAVIAR/eCAVIAR_output/Colon_Sigmoid/'\n",
    "\n",
    "efiles = glob.glob(ecaviar_directory + '*col')\n",
    "\n",
    "print(len(efiles))"
   ]
  },
  {
   "cell_type": "code",
   "execution_count": 37,
   "metadata": {},
   "outputs": [
    {
     "data": {
      "text/html": [
       "<div>\n",
       "<style scoped>\n",
       "    .dataframe tbody tr th:only-of-type {\n",
       "        vertical-align: middle;\n",
       "    }\n",
       "\n",
       "    .dataframe tbody tr th {\n",
       "        vertical-align: top;\n",
       "    }\n",
       "\n",
       "    .dataframe thead th {\n",
       "        text-align: right;\n",
       "    }\n",
       "</style>\n",
       "<table border=\"1\" class=\"dataframe\">\n",
       "  <thead>\n",
       "    <tr style=\"text-align: right;\">\n",
       "      <th></th>\n",
       "      <th>Filename</th>\n",
       "      <th>Locus</th>\n",
       "      <th>Gene</th>\n",
       "    </tr>\n",
       "  </thead>\n",
       "  <tbody>\n",
       "    <tr>\n",
       "      <th>11721</th>\n",
       "      <td>/net/home/dlee/GTEx/gwas/zhang_2020_bc/eCAVIAR...</td>\n",
       "      <td>305203</td>\n",
       "      <td>ENSG00000172554.7</td>\n",
       "    </tr>\n",
       "    <tr>\n",
       "      <th>8809</th>\n",
       "      <td>/net/home/dlee/GTEx/gwas/zhang_2020_bc/eCAVIAR...</td>\n",
       "      <td>305203</td>\n",
       "      <td>ENSG00000189292.11</td>\n",
       "    </tr>\n",
       "    <tr>\n",
       "      <th>14309</th>\n",
       "      <td>/net/home/dlee/GTEx/gwas/zhang_2020_bc/eCAVIAR...</td>\n",
       "      <td>305203</td>\n",
       "      <td>ENSG00000233296.1</td>\n",
       "    </tr>\n",
       "    <tr>\n",
       "      <th>8966</th>\n",
       "      <td>/net/home/dlee/GTEx/gwas/zhang_2020_bc/eCAVIAR...</td>\n",
       "      <td>305203</td>\n",
       "      <td>ENSG00000143727.11</td>\n",
       "    </tr>\n",
       "    <tr>\n",
       "      <th>14376</th>\n",
       "      <td>/net/home/dlee/GTEx/gwas/zhang_2020_bc/eCAVIAR...</td>\n",
       "      <td>305203</td>\n",
       "      <td>ENSG00000151353.10</td>\n",
       "    </tr>\n",
       "    <tr>\n",
       "      <th>...</th>\n",
       "      <td>...</td>\n",
       "      <td>...</td>\n",
       "      <td>...</td>\n",
       "    </tr>\n",
       "    <tr>\n",
       "      <th>16223</th>\n",
       "      <td>/net/home/dlee/GTEx/gwas/zhang_2020_bc/eCAVIAR...</td>\n",
       "      <td>243445116</td>\n",
       "      <td>ENSG00000179456.9</td>\n",
       "    </tr>\n",
       "    <tr>\n",
       "      <th>6110</th>\n",
       "      <td>/net/home/dlee/GTEx/gwas/zhang_2020_bc/eCAVIAR...</td>\n",
       "      <td>243445116</td>\n",
       "      <td>ENSG00000054282.11</td>\n",
       "    </tr>\n",
       "    <tr>\n",
       "      <th>15776</th>\n",
       "      <td>/net/home/dlee/GTEx/gwas/zhang_2020_bc/eCAVIAR...</td>\n",
       "      <td>243445116</td>\n",
       "      <td>ENSG00000224525.2</td>\n",
       "    </tr>\n",
       "    <tr>\n",
       "      <th>11091</th>\n",
       "      <td>/net/home/dlee/GTEx/gwas/zhang_2020_bc/eCAVIAR...</td>\n",
       "      <td>243445116</td>\n",
       "      <td>ENSG00000173728.6</td>\n",
       "    </tr>\n",
       "    <tr>\n",
       "      <th>15838</th>\n",
       "      <td>/net/home/dlee/GTEx/gwas/zhang_2020_bc/eCAVIAR...</td>\n",
       "      <td>243445116</td>\n",
       "      <td>ENSG00000180287.12</td>\n",
       "    </tr>\n",
       "  </tbody>\n",
       "</table>\n",
       "<p>17846 rows × 3 columns</p>\n",
       "</div>"
      ],
      "text/plain": [
       "                                                Filename      Locus  \\\n",
       "11721  /net/home/dlee/GTEx/gwas/zhang_2020_bc/eCAVIAR...     305203   \n",
       "8809   /net/home/dlee/GTEx/gwas/zhang_2020_bc/eCAVIAR...     305203   \n",
       "14309  /net/home/dlee/GTEx/gwas/zhang_2020_bc/eCAVIAR...     305203   \n",
       "8966   /net/home/dlee/GTEx/gwas/zhang_2020_bc/eCAVIAR...     305203   \n",
       "14376  /net/home/dlee/GTEx/gwas/zhang_2020_bc/eCAVIAR...     305203   \n",
       "...                                                  ...        ...   \n",
       "16223  /net/home/dlee/GTEx/gwas/zhang_2020_bc/eCAVIAR...  243445116   \n",
       "6110   /net/home/dlee/GTEx/gwas/zhang_2020_bc/eCAVIAR...  243445116   \n",
       "15776  /net/home/dlee/GTEx/gwas/zhang_2020_bc/eCAVIAR...  243445116   \n",
       "11091  /net/home/dlee/GTEx/gwas/zhang_2020_bc/eCAVIAR...  243445116   \n",
       "15838  /net/home/dlee/GTEx/gwas/zhang_2020_bc/eCAVIAR...  243445116   \n",
       "\n",
       "                     Gene  \n",
       "11721   ENSG00000172554.7  \n",
       "8809   ENSG00000189292.11  \n",
       "14309   ENSG00000233296.1  \n",
       "8966   ENSG00000143727.11  \n",
       "14376  ENSG00000151353.10  \n",
       "...                   ...  \n",
       "16223   ENSG00000179456.9  \n",
       "6110   ENSG00000054282.11  \n",
       "15776   ENSG00000224525.2  \n",
       "11091   ENSG00000173728.6  \n",
       "15838  ENSG00000180287.12  \n",
       "\n",
       "[17846 rows x 3 columns]"
      ]
     },
     "execution_count": 37,
     "metadata": {},
     "output_type": "execute_result"
    }
   ],
   "source": [
    "efile_df"
   ]
  },
  {
   "cell_type": "markdown",
   "metadata": {},
   "source": [
    "## get all the CLPP for each locus (for chr 21)"
   ]
  },
  {
   "cell_type": "code",
   "execution_count": 3,
   "metadata": {},
   "outputs": [],
   "source": [
    "import glob\n",
    "import pandas as pd"
   ]
  },
  {
   "cell_type": "code",
   "execution_count": 4,
   "metadata": {},
   "outputs": [],
   "source": [
    "#make output of LD files for eCAVIAR\n",
    "\n",
    "ecaviar_directory = '/net/home/dlee/noah/eCAVIAR_output/'\n",
    "\n",
    "efiles = glob.glob(ecaviar_directory + '*col')"
   ]
  },
  {
   "cell_type": "code",
   "execution_count": 20,
   "metadata": {},
   "outputs": [],
   "source": [
    "position = [int(i.split(\"_\")[2]) for i in efiles]\n",
    "genes = [i.split(\"_\")[3] for i in efiles]"
   ]
  },
  {
   "cell_type": "code",
   "execution_count": 45,
   "metadata": {},
   "outputs": [],
   "source": [
    "data = {'Filename': efiles, 'Locus': position, 'Gene': genes}\n",
    "efile_df = pd.DataFrame(data)"
   ]
  },
  {
   "cell_type": "code",
   "execution_count": 46,
   "metadata": {},
   "outputs": [],
   "source": [
    "efile_df = efile_df.sort_values(['Locus'])\n"
   ]
  },
  {
   "cell_type": "code",
   "execution_count": 47,
   "metadata": {},
   "outputs": [],
   "source": [
    "maxCLPP = []\n",
    "maxPCausalset = []\n",
    "\n",
    "for index, row in efile_df.iterrows():\n",
    "    eCAVIAR_output = pd.read_csv(row[\"Filename\"] , sep= '\\t')\n",
    "    maxCLPP.append(max(eCAVIAR_output[\"CLPP\"]))\n",
    "    maxPCausalset.append(max(eCAVIAR_output[\"Prob_in_pCausalSet\"]))"
   ]
  },
  {
   "cell_type": "code",
   "execution_count": 51,
   "metadata": {},
   "outputs": [],
   "source": [
    "efile_df[\"Maximum CLPP\"] = maxCLPP\n",
    "efile_df[\"Maximum Prob_in_pCausalSet\"] = maxPCausalset"
   ]
  },
  {
   "cell_type": "code",
   "execution_count": 52,
   "metadata": {},
   "outputs": [
    {
     "data": {
      "text/html": [
       "<div>\n",
       "<style scoped>\n",
       "    .dataframe tbody tr th:only-of-type {\n",
       "        vertical-align: middle;\n",
       "    }\n",
       "\n",
       "    .dataframe tbody tr th {\n",
       "        vertical-align: top;\n",
       "    }\n",
       "\n",
       "    .dataframe thead th {\n",
       "        text-align: right;\n",
       "    }\n",
       "</style>\n",
       "<table border=\"1\" class=\"dataframe\">\n",
       "  <thead>\n",
       "    <tr style=\"text-align: right;\">\n",
       "      <th></th>\n",
       "      <th>Filename</th>\n",
       "      <th>Locus</th>\n",
       "      <th>Gene</th>\n",
       "      <th>Maximum CLPP</th>\n",
       "      <th>Maximum Prop in Causal Set</th>\n",
       "      <th>Maximum Prob_in_pCausalSet</th>\n",
       "    </tr>\n",
       "  </thead>\n",
       "  <tbody>\n",
       "    <tr>\n",
       "      <th>121</th>\n",
       "      <td>/net/home/dlee/noah/eCAVIAR_output/chr21_28442...</td>\n",
       "      <td>28442933</td>\n",
       "      <td>ENSG00000232692.1</td>\n",
       "      <td>0.000248</td>\n",
       "      <td>0.117522</td>\n",
       "      <td>0.117522</td>\n",
       "    </tr>\n",
       "    <tr>\n",
       "      <th>130</th>\n",
       "      <td>/net/home/dlee/noah/eCAVIAR_output/chr21_28442...</td>\n",
       "      <td>28442933</td>\n",
       "      <td>ENSG00000142192.16</td>\n",
       "      <td>0.000419</td>\n",
       "      <td>0.141913</td>\n",
       "      <td>0.141913</td>\n",
       "    </tr>\n",
       "    <tr>\n",
       "      <th>52</th>\n",
       "      <td>/net/home/dlee/noah/eCAVIAR_output/chr21_28442...</td>\n",
       "      <td>28442933</td>\n",
       "      <td>ENSG00000166265.7</td>\n",
       "      <td>0.000901</td>\n",
       "      <td>0.215824</td>\n",
       "      <td>0.215824</td>\n",
       "    </tr>\n",
       "    <tr>\n",
       "      <th>129</th>\n",
       "      <td>/net/home/dlee/noah/eCAVIAR_output/chr21_28442...</td>\n",
       "      <td>28442933</td>\n",
       "      <td>ENSG00000217026.3</td>\n",
       "      <td>0.000602</td>\n",
       "      <td>0.113724</td>\n",
       "      <td>0.113724</td>\n",
       "    </tr>\n",
       "    <tr>\n",
       "      <th>73</th>\n",
       "      <td>/net/home/dlee/noah/eCAVIAR_output/chr21_28442...</td>\n",
       "      <td>28442933</td>\n",
       "      <td>ENSG00000232079.2</td>\n",
       "      <td>0.000522</td>\n",
       "      <td>0.069609</td>\n",
       "      <td>0.069609</td>\n",
       "    </tr>\n",
       "    <tr>\n",
       "      <th>...</th>\n",
       "      <td>...</td>\n",
       "      <td>...</td>\n",
       "      <td>...</td>\n",
       "      <td>...</td>\n",
       "      <td>...</td>\n",
       "      <td>...</td>\n",
       "    </tr>\n",
       "    <tr>\n",
       "      <th>25</th>\n",
       "      <td>/net/home/dlee/noah/eCAVIAR_output/chr21_39604...</td>\n",
       "      <td>39604059</td>\n",
       "      <td>ENSG00000255568.2</td>\n",
       "      <td>0.004507</td>\n",
       "      <td>0.545419</td>\n",
       "      <td>0.545419</td>\n",
       "    </tr>\n",
       "    <tr>\n",
       "      <th>26</th>\n",
       "      <td>/net/home/dlee/noah/eCAVIAR_output/chr21_39604...</td>\n",
       "      <td>39604059</td>\n",
       "      <td>ENSG00000157538.9</td>\n",
       "      <td>0.000946</td>\n",
       "      <td>0.191796</td>\n",
       "      <td>0.191796</td>\n",
       "    </tr>\n",
       "    <tr>\n",
       "      <th>116</th>\n",
       "      <td>/net/home/dlee/noah/eCAVIAR_output/chr21_39604...</td>\n",
       "      <td>39604059</td>\n",
       "      <td>ENSG00000242553.1</td>\n",
       "      <td>0.001379</td>\n",
       "      <td>0.138242</td>\n",
       "      <td>0.138242</td>\n",
       "    </tr>\n",
       "    <tr>\n",
       "      <th>133</th>\n",
       "      <td>/net/home/dlee/noah/eCAVIAR_output/chr21_39604...</td>\n",
       "      <td>39604059</td>\n",
       "      <td>ENSG00000157557.7</td>\n",
       "      <td>0.000712</td>\n",
       "      <td>0.163720</td>\n",
       "      <td>0.163720</td>\n",
       "    </tr>\n",
       "    <tr>\n",
       "      <th>76</th>\n",
       "      <td>/net/home/dlee/noah/eCAVIAR_output/chr21_39604...</td>\n",
       "      <td>39604059</td>\n",
       "      <td>ENSG00000272948.1</td>\n",
       "      <td>0.001818</td>\n",
       "      <td>0.245537</td>\n",
       "      <td>0.245537</td>\n",
       "    </tr>\n",
       "  </tbody>\n",
       "</table>\n",
       "<p>135 rows × 6 columns</p>\n",
       "</div>"
      ],
      "text/plain": [
       "                                              Filename     Locus  \\\n",
       "121  /net/home/dlee/noah/eCAVIAR_output/chr21_28442...  28442933   \n",
       "130  /net/home/dlee/noah/eCAVIAR_output/chr21_28442...  28442933   \n",
       "52   /net/home/dlee/noah/eCAVIAR_output/chr21_28442...  28442933   \n",
       "129  /net/home/dlee/noah/eCAVIAR_output/chr21_28442...  28442933   \n",
       "73   /net/home/dlee/noah/eCAVIAR_output/chr21_28442...  28442933   \n",
       "..                                                 ...       ...   \n",
       "25   /net/home/dlee/noah/eCAVIAR_output/chr21_39604...  39604059   \n",
       "26   /net/home/dlee/noah/eCAVIAR_output/chr21_39604...  39604059   \n",
       "116  /net/home/dlee/noah/eCAVIAR_output/chr21_39604...  39604059   \n",
       "133  /net/home/dlee/noah/eCAVIAR_output/chr21_39604...  39604059   \n",
       "76   /net/home/dlee/noah/eCAVIAR_output/chr21_39604...  39604059   \n",
       "\n",
       "                   Gene  Maximum CLPP  Maximum Prop in Causal Set  \\\n",
       "121   ENSG00000232692.1      0.000248                    0.117522   \n",
       "130  ENSG00000142192.16      0.000419                    0.141913   \n",
       "52    ENSG00000166265.7      0.000901                    0.215824   \n",
       "129   ENSG00000217026.3      0.000602                    0.113724   \n",
       "73    ENSG00000232079.2      0.000522                    0.069609   \n",
       "..                  ...           ...                         ...   \n",
       "25    ENSG00000255568.2      0.004507                    0.545419   \n",
       "26    ENSG00000157538.9      0.000946                    0.191796   \n",
       "116   ENSG00000242553.1      0.001379                    0.138242   \n",
       "133   ENSG00000157557.7      0.000712                    0.163720   \n",
       "76    ENSG00000272948.1      0.001818                    0.245537   \n",
       "\n",
       "     Maximum Prob_in_pCausalSet  \n",
       "121                    0.117522  \n",
       "130                    0.141913  \n",
       "52                     0.215824  \n",
       "129                    0.113724  \n",
       "73                     0.069609  \n",
       "..                          ...  \n",
       "25                     0.545419  \n",
       "26                     0.191796  \n",
       "116                    0.138242  \n",
       "133                    0.163720  \n",
       "76                     0.245537  \n",
       "\n",
       "[135 rows x 6 columns]"
      ]
     },
     "execution_count": 52,
     "metadata": {},
     "output_type": "execute_result"
    }
   ],
   "source": [
    "efile_df"
   ]
  },
  {
   "cell_type": "code",
   "execution_count": 53,
   "metadata": {},
   "outputs": [],
   "source": [
    "output_filename = 'eCAVIAR_chr21_summary.csv'\n",
    "efile_df[[\"Locus\", \"Gene\", \"Maximum CLPP\", \"Maximum Prob_in_pCausalSet\"]].to_csv(output_filename, index = False)"
   ]
  },
  {
   "cell_type": "code",
   "execution_count": null,
   "metadata": {},
   "outputs": [],
   "source": []
  }
 ],
 "metadata": {
  "kernelspec": {
   "display_name": "Python 3",
   "language": "python",
   "name": "python3"
  },
  "language_info": {
   "codemirror_mode": {
    "name": "ipython",
    "version": 3
   },
   "file_extension": ".py",
   "mimetype": "text/x-python",
   "name": "python",
   "nbconvert_exporter": "python",
   "pygments_lexer": "ipython3",
   "version": "3.7.7"
  }
 },
 "nbformat": 4,
 "nbformat_minor": 4
}
